{
 "cells": [
  {
   "cell_type": "code",
   "execution_count": 1,
   "metadata": {},
   "outputs": [],
   "source": [
    "import matplotlib.pyplot as plt\n",
    "from plotting_functions.plotting_structure import combine_experiments\n",
    "import warnings\n",
    "# Configure warnings\n",
    "warnings.filterwarnings(\"once\")"
   ]
  },
  {
   "cell_type": "code",
   "execution_count": 2,
   "metadata": {},
   "outputs": [],
   "source": [
    "filemap_paths = [\n",
    "    \"/mnt/towbin.data/shared/kstojanovski/20240202_Orca_10x_yap-1del_col-10-tir_wBT160-186-310-337-380-393_25C_20240202_171239_051/analysis_sacha/report/analysis_filemap_annotated.csv\",\n",
    "    # \"/mnt/towbin.data/shared/kstojanovski/20240212_Orca_10x_yap-1del_col-10-tir_wBT160-186-310-337-380-393_25C_20240212_164059_429/analysis_sacha/report/analysis_filemap_annotated.csv\",\n",
    "]\n",
    "\n",
    "conditions_paths = [\n",
    "    \"/mnt/towbin.data/shared/kstojanovski/20240202_Orca_10x_yap-1del_col-10-tir_wBT160-186-310-337-380-393_25C_20240202_171239_051/doc/conditions.yaml\",\n",
    "    # \"/mnt/towbin.data/shared/kstojanovski/20240212_Orca_10x_yap-1del_col-10-tir_wBT160-186-310-337-380-393_25C_20240212_164059_429/doc/conditions.yaml\",\n",
    "]\n",
    "\n",
    "organ_channels = [{'body': 2, 'pharynx' : 1}]\n",
    "\n",
    "\n",
    "# backup_path = \"/mnt/towbin.data/shared/igheor/20250208_Ti2_10x_suppressor_screen_daf16_160_186_344_338_25C_20250208_204911_158/plotting_backups/\"\n",
    "\n",
    "# filemap_backup_path = os.path.join(backup_path, \"filemaps\")\n",
    "# conditions_backup_path = os.path.join(backup_path, \"conditions\")\n",
    "# structure_backup_path = os.path.join(backup_path, \"structure\")\n",
    "\n",
    "# os.makedirs(backup_path, exist_ok=True)\n",
    "# os.makedirs(filemap_backup_path, exist_ok=True)\n",
    "# os.makedirs(conditions_backup_path, exist_ok=True)\n",
    "# os.makedirs(structure_backup_path, exist_ok=True)"
   ]
  },
  {
   "cell_type": "code",
   "execution_count": 3,
   "metadata": {},
   "outputs": [],
   "source": [
    "import pickle\n",
    "conditions_struct = combine_experiments(filemap_paths, conditions_paths, organ_channels=organ_channels, recompute_values_at_molt=False)\n",
    "\n",
    "# # backup the conditions struct\n",
    "# with open(os.path.join(structure_backup_path, \"plotting_struct.pkl\"), \"wb\") as f:\n",
    "#     pickle.dump(conditions_struct, f)"
   ]
  },
  {
   "cell_type": "code",
   "execution_count": 4,
   "metadata": {},
   "outputs": [
    {
     "name": "stdout",
     "output_type": "stream",
     "text": [
      "Condition: (0, {'WT yap-1, no TIR, 500uM IAA'}), Number of individuals: 31\n",
      "Condition: (1, {'WT yap-1, col-10:TIR, 500uM IAA'}), Number of individuals: 24\n",
      "Condition: (2, {'yap-1 (tm1416), no TIR, 500uM IAA'}), Number of individuals: 55\n",
      "Condition: (3, {'yap-1 (tm1416), col-10:TIR, 500uM IAA'}), Number of individuals: 51\n",
      "Condition: (4, {'yap-1 (abt7), no TIR, 500uM IAA'}), Number of individuals: 48\n",
      "Condition: (5, {'yap-1 (abt7), col-10:TIR, 500uM IAA'}), Number of individuals: 95\n"
     ]
    }
   ],
   "source": [
    "for condition in conditions_struct:\n",
    "    print(f\"Condition: {condition['condition_id'], {condition['description']}}, Number of individuals: {condition['ecdysis_time_step'].shape[0]}\")"
   ]
  },
  {
   "cell_type": "code",
   "execution_count": 5,
   "metadata": {},
   "outputs": [],
   "source": [
    "# change figure size to your liking\n",
    "plt.rcParams['figure.figsize'] = [12, 10]\n",
    "\n",
    "# make lines thicker\n",
    "plt.rcParams['lines.linewidth'] = 2\n",
    "\n",
    "# make font size bigger\n",
    "plt.rcParams.update({'font.size': 12})"
   ]
  }
 ],
 "metadata": {
  "kernelspec": {
   "display_name": "Python 3",
   "language": "python",
   "name": "python3"
  },
  "language_info": {
   "codemirror_mode": {
    "name": "ipython",
    "version": 3
   },
   "file_extension": ".py",
   "mimetype": "text/x-python",
   "name": "python",
   "nbconvert_exporter": "python",
   "pygments_lexer": "ipython3",
   "version": "3.9.18"
  }
 },
 "nbformat": 4,
 "nbformat_minor": 2
}
