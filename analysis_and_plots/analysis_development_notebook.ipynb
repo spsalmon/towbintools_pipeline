{
 "cells": [
  {
   "cell_type": "code",
   "execution_count": 1,
   "metadata": {},
   "outputs": [],
   "source": [
    "import matplotlib.pyplot as plt\n",
    "from plotting_functions.plotting_structure import combine_experiments\n",
    "from plotting_functions.boxplots import boxplot_at_molt, boxplot_larval_stage\n",
    "import warnings\n",
    "# Configure warnings\n",
    "warnings.filterwarnings(\"once\")"
   ]
  },
  {
   "cell_type": "code",
   "execution_count": 2,
   "metadata": {},
   "outputs": [],
   "source": [
    "filemap_paths = [\n",
    "    \"/mnt/towbin.data/shared/kstojanovski/20240202_Orca_10x_yap-1del_col-10-tir_wBT160-186-310-337-380-393_25C_20240202_171239_051/analysis_sacha/report/analysis_filemap_annotated.csv\",\n",
    "    # \"/mnt/towbin.data/shared/kstojanovski/20240212_Orca_10x_yap-1del_col-10-tir_wBT160-186-310-337-380-393_25C_20240212_164059_429/analysis_sacha/report/analysis_filemap_annotated.csv\",\n",
    "]\n",
    "\n",
    "conditions_paths = [\n",
    "    \"/mnt/towbin.data/shared/kstojanovski/20240202_Orca_10x_yap-1del_col-10-tir_wBT160-186-310-337-380-393_25C_20240202_171239_051/doc/conditions.yaml\",\n",
    "    # \"/mnt/towbin.data/shared/kstojanovski/20240212_Orca_10x_yap-1del_col-10-tir_wBT160-186-310-337-380-393_25C_20240212_164059_429/doc/conditions.yaml\",\n",
    "]\n",
    "\n",
    "organ_channels = [{'body': 'ch2', 'pharynx' : 'ch1'}]\n",
    "# \n",
    "\n",
    "# backup_path = \"/mnt/towbin.data/shared/igheor/20250208_Ti2_10x_suppressor_screen_daf16_160_186_344_338_25C_20250208_204911_158/plotting_backups/\"\n",
    "\n",
    "# filemap_backup_path = os.path.join(backup_path, \"filemaps\")\n",
    "# conditions_backup_path = os.path.join(backup_path, \"conditions\")\n",
    "# structure_backup_path = os.path.join(backup_path, \"structure\")\n",
    "\n",
    "# os.makedirs(backup_path, exist_ok=True)\n",
    "# os.makedirs(filemap_backup_path, exist_ok=True)\n",
    "# os.makedirs(conditions_backup_path, exist_ok=True)\n",
    "# os.makedirs(structure_backup_path, exist_ok=True)"
   ]
  },
  {
   "cell_type": "code",
   "execution_count": 3,
   "metadata": {},
   "outputs": [
    {
     "name": "stdout",
     "output_type": "stream",
     "text": [
      "Initial processing of filemap took 0.80 seconds\n",
      "Processing ecdysis took 0.03 seconds\n",
      "Adding simple fields took 0.00 seconds\n",
      "Adding worm type took 0.01 seconds\n",
      "Processing condition 0 took 33.33 seconds\n",
      "Processing ecdysis took 0.02 seconds\n",
      "Adding simple fields took 0.00 seconds\n",
      "Adding worm type took 0.01 seconds\n"
     ]
    },
    {
     "ename": "KeyboardInterrupt",
     "evalue": "",
     "output_type": "error",
     "traceback": [
      "\u001b[0;31m---------------------------------------------------------------------------\u001b[0m",
      "\u001b[0;31mKeyboardInterrupt\u001b[0m                         Traceback (most recent call last)",
      "Cell \u001b[0;32mIn[3], line 2\u001b[0m\n\u001b[1;32m      1\u001b[0m \u001b[38;5;28;01mimport\u001b[39;00m \u001b[38;5;21;01mpickle\u001b[39;00m\n\u001b[0;32m----> 2\u001b[0m conditions_struct \u001b[38;5;241m=\u001b[39m \u001b[43mcombine_experiments\u001b[49m\u001b[43m(\u001b[49m\u001b[43mfilemap_paths\u001b[49m\u001b[43m,\u001b[49m\u001b[43m \u001b[49m\u001b[43mconditions_paths\u001b[49m\u001b[43m,\u001b[49m\u001b[43m \u001b[49m\u001b[43morgan_channels\u001b[49m\u001b[38;5;241;43m=\u001b[39;49m\u001b[43morgan_channels\u001b[49m\u001b[43m,\u001b[49m\u001b[43m \u001b[49m\u001b[43mrecompute_values_at_molt\u001b[49m\u001b[38;5;241;43m=\u001b[39;49m\u001b[38;5;28;43;01mFalse\u001b[39;49;00m\u001b[43m)\u001b[49m\n\u001b[1;32m      4\u001b[0m \u001b[38;5;66;03m# # backup the conditions struct\u001b[39;00m\n\u001b[1;32m      5\u001b[0m \u001b[38;5;66;03m# with open(os.path.join(structure_backup_path, \"plotting_struct.pkl\"), \"wb\") as f:\u001b[39;00m\n\u001b[1;32m      6\u001b[0m \u001b[38;5;66;03m#     pickle.dump(conditions_struct, f)\u001b[39;00m\n",
      "File \u001b[0;32m~/towbintools_pipeline/analysis_and_plots/plotting_functions/plotting_structure.py:551\u001b[0m, in \u001b[0;36mcombine_experiments\u001b[0;34m(filemap_paths, config_paths, experiment_dirs, organ_channels, recompute_values_at_molt)\u001b[0m\n\u001b[1;32m    544\u001b[0m \u001b[38;5;28;01mfor\u001b[39;00m i, (filemap_path, config_path, organ_channel) \u001b[38;5;129;01min\u001b[39;00m \u001b[38;5;28menumerate\u001b[39m(\n\u001b[1;32m    545\u001b[0m     \u001b[38;5;28mzip\u001b[39m(filemap_paths, config_paths, organ_channels)\n\u001b[1;32m    546\u001b[0m ):\n\u001b[1;32m    547\u001b[0m     experiment_dir \u001b[38;5;241m=\u001b[39m (\n\u001b[1;32m    548\u001b[0m         experiment_dirs[i] \u001b[38;5;28;01mif\u001b[39;00m experiment_dirs \u001b[38;5;28;01melse\u001b[39;00m os\u001b[38;5;241m.\u001b[39mpath\u001b[38;5;241m.\u001b[39mdirname(filemap_path)\n\u001b[1;32m    549\u001b[0m     )\n\u001b[0;32m--> 551\u001b[0m     conditions_struct, conditions_info \u001b[38;5;241m=\u001b[39m \u001b[43mbuild_plotting_struct\u001b[49m\u001b[43m(\u001b[49m\n\u001b[1;32m    552\u001b[0m \u001b[43m        \u001b[49m\u001b[43mexperiment_dir\u001b[49m\u001b[43m,\u001b[49m\n\u001b[1;32m    553\u001b[0m \u001b[43m        \u001b[49m\u001b[43mfilemap_path\u001b[49m\u001b[43m,\u001b[49m\n\u001b[1;32m    554\u001b[0m \u001b[43m        \u001b[49m\u001b[43mconfig_path\u001b[49m\u001b[43m,\u001b[49m\n\u001b[1;32m    555\u001b[0m \u001b[43m        \u001b[49m\u001b[43morgan_channels\u001b[49m\u001b[38;5;241;43m=\u001b[39;49m\u001b[43morgan_channel\u001b[49m\u001b[43m,\u001b[49m\n\u001b[1;32m    556\u001b[0m \u001b[43m        \u001b[49m\u001b[43mrecompute_values_at_molt\u001b[49m\u001b[38;5;241;43m=\u001b[39;49m\u001b[43mrecompute_values_at_molt\u001b[49m\u001b[43m,\u001b[49m\n\u001b[1;32m    557\u001b[0m \u001b[43m    \u001b[49m\u001b[43m)\u001b[49m\n\u001b[1;32m    559\u001b[0m     \u001b[38;5;66;03m# Process conditions for this experiment\u001b[39;00m\n\u001b[1;32m    560\u001b[0m     \u001b[38;5;28;01mfor\u001b[39;00m condition \u001b[38;5;129;01min\u001b[39;00m conditions_struct:\n",
      "File \u001b[0;32m~/towbintools_pipeline/analysis_and_plots/plotting_functions/plotting_structure.py:297\u001b[0m, in \u001b[0;36mbuild_plotting_struct\u001b[0;34m(experiment_dir, filemap_path, conditions_yaml_path, organ_channels, recompute_values_at_molt)\u001b[0m\n\u001b[1;32m    294\u001b[0m \u001b[38;5;28;01mfor\u001b[39;00m condition_id \u001b[38;5;129;01min\u001b[39;00m experiment_filemap[\u001b[38;5;124m\"\u001b[39m\u001b[38;5;124mcondition_id\u001b[39m\u001b[38;5;124m\"\u001b[39m]\u001b[38;5;241m.\u001b[39munique():\n\u001b[1;32m    296\u001b[0m     start_time \u001b[38;5;241m=\u001b[39m perf_counter()\n\u001b[0;32m--> 297\u001b[0m     condition_dict \u001b[38;5;241m=\u001b[39m \u001b[43m_process_condition_id_plotting_structure\u001b[49m\u001b[43m(\u001b[49m\n\u001b[1;32m    298\u001b[0m \u001b[43m        \u001b[49m\u001b[43mexperiment_dir\u001b[49m\u001b[43m,\u001b[49m\n\u001b[1;32m    299\u001b[0m \u001b[43m        \u001b[49m\u001b[43mexperiment_filemap\u001b[49m\u001b[43m,\u001b[49m\n\u001b[1;32m    300\u001b[0m \u001b[43m        \u001b[49m\u001b[43mfilemap_path\u001b[49m\u001b[43m,\u001b[49m\n\u001b[1;32m    301\u001b[0m \u001b[43m        \u001b[49m\u001b[43morgan_channels\u001b[49m\u001b[43m,\u001b[49m\n\u001b[1;32m    302\u001b[0m \u001b[43m        \u001b[49m\u001b[43mconditions_keys\u001b[49m\u001b[43m,\u001b[49m\n\u001b[1;32m    303\u001b[0m \u001b[43m        \u001b[49m\u001b[43mcondition_id\u001b[49m\u001b[43m,\u001b[49m\n\u001b[1;32m    304\u001b[0m \u001b[43m        \u001b[49m\u001b[43mrecompute_values_at_molt\u001b[49m\u001b[38;5;241;43m=\u001b[39;49m\u001b[43mrecompute_values_at_molt\u001b[49m\u001b[43m,\u001b[49m\n\u001b[1;32m    305\u001b[0m \u001b[43m    \u001b[49m\u001b[43m)\u001b[49m\n\u001b[1;32m    306\u001b[0m     \u001b[38;5;28mprint\u001b[39m(\u001b[38;5;124mf\u001b[39m\u001b[38;5;124m'\u001b[39m\u001b[38;5;124mProcessing condition \u001b[39m\u001b[38;5;132;01m{\u001b[39;00mcondition_id\u001b[38;5;132;01m}\u001b[39;00m\u001b[38;5;124m took \u001b[39m\u001b[38;5;132;01m{\u001b[39;00mperf_counter()\u001b[38;5;250m \u001b[39m\u001b[38;5;241m-\u001b[39m\u001b[38;5;250m \u001b[39mstart_time\u001b[38;5;132;01m:\u001b[39;00m\u001b[38;5;124m.2f\u001b[39m\u001b[38;5;132;01m}\u001b[39;00m\u001b[38;5;124m seconds\u001b[39m\u001b[38;5;124m'\u001b[39m)\n\u001b[1;32m    308\u001b[0m     conditions_struct\u001b[38;5;241m.\u001b[39mappend(condition_dict)\n",
      "File \u001b[0;32m~/towbintools_pipeline/analysis_and_plots/plotting_functions/plotting_structure.py:228\u001b[0m, in \u001b[0;36m_process_condition_id_plotting_structure\u001b[0;34m(experiment_dir, experiment_filemap, filemap_path, organ_channels, conditions_keys, condition_id, recompute_values_at_molt)\u001b[0m\n\u001b[1;32m    220\u001b[0m \u001b[38;5;28;01mfor\u001b[39;00m organ_feature_column, renamed_feature_organ_column \u001b[38;5;129;01min\u001b[39;00m \u001b[38;5;28mzip\u001b[39m(\n\u001b[1;32m    221\u001b[0m     organ_feature_columns, renamed_organ_feature_columns\n\u001b[1;32m    222\u001b[0m ):\n\u001b[1;32m    223\u001b[0m     condition_dict[renamed_feature_organ_column] \u001b[38;5;241m=\u001b[39m separate_column_by_point(\n\u001b[1;32m    224\u001b[0m         condition_df, organ_feature_column\n\u001b[1;32m    225\u001b[0m     )\n\u001b[1;32m    226\u001b[0m     condition_dict[\n\u001b[1;32m    227\u001b[0m         \u001b[38;5;124mf\u001b[39m\u001b[38;5;124m\"\u001b[39m\u001b[38;5;132;01m{\u001b[39;00mrenamed_feature_organ_column\u001b[38;5;132;01m}\u001b[39;00m\u001b[38;5;124m_at_ecdysis\u001b[39m\u001b[38;5;124m\"\u001b[39m\n\u001b[0;32m--> 228\u001b[0m     ] \u001b[38;5;241m=\u001b[39m \u001b[43m_get_values_at_molt\u001b[49m\u001b[43m(\u001b[49m\u001b[43mcondition_df\u001b[49m\u001b[43m,\u001b[49m\u001b[43m \u001b[49m\u001b[43morgan_feature_column\u001b[49m\u001b[43m)\u001b[49m\n\u001b[1;32m    230\u001b[0m \u001b[38;5;66;03m# remove any column with worm_type in it\u001b[39;00m\n\u001b[1;32m    231\u001b[0m renamed_organ_feature_columns \u001b[38;5;241m=\u001b[39m [\n\u001b[1;32m    232\u001b[0m     col \u001b[38;5;28;01mfor\u001b[39;00m col \u001b[38;5;129;01min\u001b[39;00m renamed_organ_feature_columns \u001b[38;5;28;01mif\u001b[39;00m \u001b[38;5;124m\"\u001b[39m\u001b[38;5;124mworm_type\u001b[39m\u001b[38;5;124m\"\u001b[39m \u001b[38;5;129;01mnot\u001b[39;00m \u001b[38;5;129;01min\u001b[39;00m col\n\u001b[1;32m    233\u001b[0m ]\n",
      "File \u001b[0;32m~/towbintools_pipeline/analysis_and_plots/plotting_functions/plotting_structure.py:394\u001b[0m, in \u001b[0;36m_get_values_at_molt\u001b[0;34m(filemap, column)\u001b[0m\n\u001b[1;32m    391\u001b[0m unique_points \u001b[38;5;241m=\u001b[39m filemap\u001b[38;5;241m.\u001b[39mselect(pl\u001b[38;5;241m.\u001b[39mcol(\u001b[38;5;124m\"\u001b[39m\u001b[38;5;124mPoint\u001b[39m\u001b[38;5;124m\"\u001b[39m))\u001b[38;5;241m.\u001b[39munique()\u001b[38;5;241m.\u001b[39mto_numpy()\u001b[38;5;241m.\u001b[39msqueeze()\n\u001b[1;32m    393\u001b[0m \u001b[38;5;28;01mfor\u001b[39;00m point \u001b[38;5;129;01min\u001b[39;00m unique_points:\n\u001b[0;32m--> 394\u001b[0m     point_df \u001b[38;5;241m=\u001b[39m \u001b[43mfilemap\u001b[49m\u001b[38;5;241;43m.\u001b[39;49m\u001b[43mfilter\u001b[49m\u001b[43m(\u001b[49m\u001b[43mpl\u001b[49m\u001b[38;5;241;43m.\u001b[39;49m\u001b[43mcol\u001b[49m\u001b[43m(\u001b[49m\u001b[38;5;124;43m\"\u001b[39;49m\u001b[38;5;124;43mPoint\u001b[39;49m\u001b[38;5;124;43m\"\u001b[39;49m\u001b[43m)\u001b[49m\u001b[43m \u001b[49m\u001b[38;5;241;43m==\u001b[39;49m\u001b[43m \u001b[49m\u001b[43mpoint\u001b[49m\u001b[43m)\u001b[49m\n\u001b[1;32m    396\u001b[0m     \u001b[38;5;28;01mfor\u001b[39;00m col \u001b[38;5;129;01min\u001b[39;00m columns_at_ecdysis:\n\u001b[1;32m    397\u001b[0m         \u001b[38;5;28;01mif\u001b[39;00m col \u001b[38;5;129;01mnot\u001b[39;00m \u001b[38;5;129;01min\u001b[39;00m point_df\u001b[38;5;241m.\u001b[39mcolumns:\n",
      "File \u001b[0;32m~/micromamba/envs/towbintools/lib/python3.9/site-packages/polars/dataframe/frame.py:5102\u001b[0m, in \u001b[0;36mDataFrame.filter\u001b[0;34m(self, *predicates, **constraints)\u001b[0m\n\u001b[1;32m   4936\u001b[0m \u001b[38;5;28;01mdef\u001b[39;00m \u001b[38;5;21mfilter\u001b[39m(\n\u001b[1;32m   4937\u001b[0m     \u001b[38;5;28mself\u001b[39m,\n\u001b[1;32m   4938\u001b[0m     \u001b[38;5;241m*\u001b[39mpredicates: (\n\u001b[0;32m   (...)\u001b[0m\n\u001b[1;32m   4945\u001b[0m     \u001b[38;5;241m*\u001b[39m\u001b[38;5;241m*\u001b[39mconstraints: Any,\n\u001b[1;32m   4946\u001b[0m ) \u001b[38;5;241m-\u001b[39m\u001b[38;5;241m>\u001b[39m DataFrame:\n\u001b[1;32m   4947\u001b[0m \u001b[38;5;250m    \u001b[39m\u001b[38;5;124;03m\"\"\"\u001b[39;00m\n\u001b[1;32m   4948\u001b[0m \u001b[38;5;124;03m    Filter rows, retaining those that match the given predicate expression(s).\u001b[39;00m\n\u001b[1;32m   4949\u001b[0m \n\u001b[0;32m   (...)\u001b[0m\n\u001b[1;32m   5100\u001b[0m \u001b[38;5;124;03m    └──────┴──────┴─────┘\u001b[39;00m\n\u001b[1;32m   5101\u001b[0m \u001b[38;5;124;03m    \"\"\"\u001b[39;00m\n\u001b[0;32m-> 5102\u001b[0m     \u001b[38;5;28;01mreturn\u001b[39;00m \u001b[38;5;28;43mself\u001b[39;49m\u001b[38;5;241;43m.\u001b[39;49m\u001b[43mlazy\u001b[49m\u001b[43m(\u001b[49m\u001b[43m)\u001b[49m\u001b[38;5;241;43m.\u001b[39;49m\u001b[43mfilter\u001b[49m\u001b[43m(\u001b[49m\u001b[38;5;241;43m*\u001b[39;49m\u001b[43mpredicates\u001b[49m\u001b[43m,\u001b[49m\u001b[43m \u001b[49m\u001b[38;5;241;43m*\u001b[39;49m\u001b[38;5;241;43m*\u001b[39;49m\u001b[43mconstraints\u001b[49m\u001b[43m)\u001b[49m\u001b[38;5;241;43m.\u001b[39;49m\u001b[43mcollect\u001b[49m\u001b[43m(\u001b[49m\u001b[43m_eager\u001b[49m\u001b[38;5;241;43m=\u001b[39;49m\u001b[38;5;28;43;01mTrue\u001b[39;49;00m\u001b[43m)\u001b[49m\n",
      "File \u001b[0;32m~/micromamba/envs/towbintools/lib/python3.9/site-packages/polars/_utils/deprecation.py:93\u001b[0m, in \u001b[0;36mdeprecate_streaming_parameter.<locals>.decorate.<locals>.wrapper\u001b[0;34m(*args, **kwargs)\u001b[0m\n\u001b[1;32m     89\u001b[0m         kwargs[\u001b[38;5;124m\"\u001b[39m\u001b[38;5;124mengine\u001b[39m\u001b[38;5;124m\"\u001b[39m] \u001b[38;5;241m=\u001b[39m \u001b[38;5;124m\"\u001b[39m\u001b[38;5;124min-memory\u001b[39m\u001b[38;5;124m\"\u001b[39m\n\u001b[1;32m     91\u001b[0m     \u001b[38;5;28;01mdel\u001b[39;00m kwargs[\u001b[38;5;124m\"\u001b[39m\u001b[38;5;124mstreaming\u001b[39m\u001b[38;5;124m\"\u001b[39m]\n\u001b[0;32m---> 93\u001b[0m \u001b[38;5;28;01mreturn\u001b[39;00m \u001b[43mfunction\u001b[49m\u001b[43m(\u001b[49m\u001b[38;5;241;43m*\u001b[39;49m\u001b[43margs\u001b[49m\u001b[43m,\u001b[49m\u001b[43m \u001b[49m\u001b[38;5;241;43m*\u001b[39;49m\u001b[38;5;241;43m*\u001b[39;49m\u001b[43mkwargs\u001b[49m\u001b[43m)\u001b[49m\n",
      "File \u001b[0;32m~/micromamba/envs/towbintools/lib/python3.9/site-packages/polars/lazyframe/frame.py:2206\u001b[0m, in \u001b[0;36mLazyFrame.collect\u001b[0;34m(self, type_coercion, _type_check, predicate_pushdown, projection_pushdown, simplify_expression, slice_pushdown, comm_subplan_elim, comm_subexpr_elim, cluster_with_columns, collapse_joins, no_optimization, engine, background, _check_order, _eager, **_kwargs)\u001b[0m\n\u001b[1;32m   2204\u001b[0m \u001b[38;5;66;03m# Only for testing purposes\u001b[39;00m\n\u001b[1;32m   2205\u001b[0m callback \u001b[38;5;241m=\u001b[39m _kwargs\u001b[38;5;241m.\u001b[39mget(\u001b[38;5;124m\"\u001b[39m\u001b[38;5;124mpost_opt_callback\u001b[39m\u001b[38;5;124m\"\u001b[39m, callback)\n\u001b[0;32m-> 2206\u001b[0m \u001b[38;5;28;01mreturn\u001b[39;00m wrap_df(\u001b[43mldf\u001b[49m\u001b[38;5;241;43m.\u001b[39;49m\u001b[43mcollect\u001b[49m\u001b[43m(\u001b[49m\u001b[43mengine\u001b[49m\u001b[43m,\u001b[49m\u001b[43m \u001b[49m\u001b[43mcallback\u001b[49m\u001b[43m)\u001b[49m)\n",
      "\u001b[0;31mKeyboardInterrupt\u001b[0m: "
     ]
    }
   ],
   "source": [
    "import pickle\n",
    "conditions_struct = combine_experiments(filemap_paths, conditions_paths, organ_channels=organ_channels, recompute_values_at_molt=False)\n",
    "\n",
    "# # backup the conditions struct\n",
    "# with open(os.path.join(structure_backup_path, \"plotting_struct.pkl\"), \"wb\") as f:\n",
    "#     pickle.dump(conditions_struct, f)"
   ]
  },
  {
   "cell_type": "code",
   "execution_count": null,
   "metadata": {},
   "outputs": [],
   "source": [
    "for condition in conditions_struct:\n",
    "    print(f\"Condition: {condition['condition_id'], {condition['description']}}, Number of individuals: {condition['ecdysis_time_step'].shape[0]}\")"
   ]
  },
  {
   "cell_type": "code",
   "execution_count": null,
   "metadata": {},
   "outputs": [],
   "source": [
    "# change figure size to your liking\n",
    "plt.rcParams['figure.figsize'] = [12, 10]\n",
    "\n",
    "# make lines thicker\n",
    "plt.rcParams['lines.linewidth'] = 2\n",
    "\n",
    "# make font size bigger\n",
    "plt.rcParams.update({'font.size': 12})"
   ]
  },
  {
   "cell_type": "code",
   "execution_count": null,
   "metadata": {},
   "outputs": [],
   "source": [
    "conditions_to_plot = [0, 2, 4]\n",
    "significance_pairs = [(0, 2), (0,4)]\n",
    "colors = {0: 'red', 2: 'blue', 4: 'green',}\n",
    "# colors = ['red', 'blue', 'green']\n",
    "\n",
    "fig = boxplot_at_molt(conditions_struct, 'pharynx_seg_str_volume_at_ecdysis', conditions_to_plot, colors=colors, plot_significance=True, significance_pairs = significance_pairs, log_scale = False, legend = {'description': ''}, y_axis_label='Volume (µm³)', titles = ['Hatch', 'M1', 'M2', 'M3', 'M4'])"
   ]
  },
  {
   "cell_type": "code",
   "execution_count": null,
   "metadata": {},
   "outputs": [],
   "source": [
    "fig = boxplot_larval_stage(conditions_struct, 'pharynx_seg_bending_energy', conditions_to_plot, colors=colors, aggregation='median', n_points=100, log_scale=False, plot_significance=True, y_axis_label='median bending energy', titles = ['L1', 'L2', 'L3', 'L4'], legend={'description': ''})"
   ]
  }
 ],
 "metadata": {
  "kernelspec": {
   "display_name": "Python 3",
   "language": "python",
   "name": "python3"
  },
  "language_info": {
   "codemirror_mode": {
    "name": "ipython",
    "version": 3
   },
   "file_extension": ".py",
   "mimetype": "text/x-python",
   "name": "python",
   "nbconvert_exporter": "python",
   "pygments_lexer": "ipython3",
   "version": "3.9.18"
  }
 },
 "nbformat": 4,
 "nbformat_minor": 2
}
